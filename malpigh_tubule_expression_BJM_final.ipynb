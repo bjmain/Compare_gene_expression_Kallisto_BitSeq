{
 "cells": [
  {
   "cell_type": "markdown",
   "metadata": {},
   "source": [
    "### I mapped to AgamP4 for the expression analysis instead of Acol because I got about 30% higher mapping. "
   ]
  },
  {
   "cell_type": "markdown",
   "metadata": {},
   "source": [
    "### allowed for up to 100 distinct alignments\n",
    "### e.g. bowtie2 -q -k 100 --threads 4 -x Anopheles-gambiae-PEST_TRANSCRIPTS_AgamP4.2 -U ../trimmed/cyp1-C1-AE_S192_L007_R1_001.qc.fastq.gz -S cyp1-C1-AE_S192.sam\n",
    "### run in parallel like: parallel --gnu --ungroup --nice 9 -a bt2.run"
   ]
  },
  {
   "cell_type": "markdown",
   "metadata": {},
   "source": [
    "# Compare AgamP4 to AcolM1.2\n",
    "### for file in /home/bradmain/gambiae/malphigs/raw/trimmed/*-*gz\n",
    "### do\n",
    "### echo \"bowtie2 -q -k 100 --threads 4 -x Anopheles-coluzzii-Mali-NIH_TRANSCRIPTS_AcolM1.2 -U $file -S $(basename $file _L007_R1_001.qc.fastq.gz).sam2\"\n",
    "### done > Acol_Transcripts_BT2.sh\n",
    "\n",
    "### run in parallel like: parallel --gnu --ungroup --nice 9 -a Acol_Transcripts_BT2.sh"
   ]
  },
  {
   "cell_type": "code",
   "execution_count": null,
   "metadata": {
    "collapsed": true
   },
   "outputs": [],
   "source": [
    "# Mapping statistics  -- AgamP4.2\n",
    "import glob\n",
    "import subprocess\n",
    "import os\n",
    "\n",
    "BT2_AgamP4_out = open(\"BT2_2_AgamP4_Transc.txt\", 'w')\n",
    "BT2_2_AgamP4_Transc = []\n",
    "AgamP4 = glob.glob(\"/home/bradmain/gambiae/malphigs/raw/BitSeq/*.sam\")\n",
    "for file in AgamP4:\n",
    "    #samtools flagstat to estimate mapping percent\n",
    "    ID = os.path.basename(file)\n",
    "    print(ID)\n",
    "    percent = subprocess.getoutput('samtools flagstat %s | grep \"mapped (\"' % (file)).split()[-3].strip(\"(\")\n",
    "    BT2_AgamP4_out.write(ID)\n",
    "    BT2_AgamP4_out.write(\"\\t\")\n",
    "    BT2_AgamP4_out.write(percent)\n",
    "    BT2_AgamP4_out.write(\"\\n\")    \n",
    "BT2_AgamP4_out.close()"
   ]
  },
  {
   "cell_type": "code",
   "execution_count": null,
   "metadata": {
    "collapsed": true
   },
   "outputs": [],
   "source": [
    "# Mapping statistics -- Acol1.2\n",
    "import glob\n",
    "import subprocess\n",
    "import os\n",
    "\n",
    "BT2_Acol_out = open(\"BT2_2_Acol1.2_Transc.txt\", 'w')\n",
    "BT2_2_Acol_Transc = []\n",
    "Acol = glob.glob(\"/home/bradmain/gambiae/malphigs/Acol/BT2_transcripts/*sam2\")\n",
    "for file in Acol:\n",
    "    #samtools flagstat to estimate mapping percent\n",
    "    ID = os.path.basename(file)\n",
    "    print(ID)\n",
    "    percent = subprocess.getoutput('samtools flagstat %s | grep \"mapped (\"' % (file)).split()[-3].strip(\"(\")\n",
    "    BT2_Acol_out.write(ID)\n",
    "    BT2_Acol_out.write(\"\\t\")\n",
    "    BT2_Acol_out.write(percent)\n",
    "    BT2_Acol_out.write(\"\\n\")    \n",
    "BT2_Acol_out.close()"
   ]
  },
  {
   "cell_type": "code",
   "execution_count": 22,
   "metadata": {
    "collapsed": false
   },
   "outputs": [
    {
     "name": "stdout",
     "output_type": "stream",
     "text": [
      "                   sample percent_x              sampleID percent_y\n",
      "0    cyp1-C1-AE_S192.sam2    61.11%   cyp1-C1-AE_S192.sam    83.37%\n",
      "1   Mopti-C1-AE_S179.sam2    58.97%  Mopti-C1-AE_S179.sam    84.64%\n",
      "2   Mopti-T2-BM_S187.sam2    56.26%  Mopti-T2-BM_S187.sam    87.42%\n",
      "3   Mopti-T2-YY_S188.sam2    58.79%  Mopti-T2-YY_S188.sam    82.70%\n",
      "4   Mopti-T1-AE_S185.sam2    55.78%  Mopti-T1-AE_S185.sam    85.56%\n",
      "5   Mopti-C2-AE_S181.sam2    50.85%  Mopti-C2-AE_S181.sam    86.05%\n",
      "6   Mopti-T3-AE_S190.sam2    61.13%  Mopti-T3-AE_S190.sam    81.59%\n",
      "7    cyp1-C3-AE_S196.sam2    62.81%   cyp1-C3-AE_S196.sam    83.81%\n",
      "8    cyp1-T3-AE_S202.sam2    62.21%   cyp1-T3-AE_S202.sam    82.70%\n",
      "9   Mopti-T3-YY_S189.sam2    58.33%  Mopti-T3-YY_S189.sam    84.75%\n",
      "10  Mopti-C1-BM_S180.sam2    55.84%  Mopti-C1-BM_S180.sam    85.02%\n",
      "11   cyp1-C3-YY_S195.sam2    62.89%   cyp1-C3-YY_S195.sam    83.23%\n",
      "12   cyp1-T1-AE_S198.sam2    62.14%   cyp1-T1-AE_S198.sam    83.18%\n",
      "13   cyp1-T2-AE_S200.sam2    65.44%   cyp1-T2-AE_S200.sam    83.66%\n",
      "14   cyp1-T1-YY_S197.sam2    62.61%   cyp1-T1-YY_S197.sam    83.02%\n",
      "15  Mopti-C3-YY_S183.sam2    61.25%  Mopti-C3-YY_S183.sam    83.29%\n",
      "16   cyp1-C2-AE_S194.sam2    61.89%   cyp1-C2-AE_S194.sam    82.05%\n",
      "17  Mopti-T1-BM_S186.sam2    54.46%  Mopti-T1-BM_S186.sam    85.99%\n",
      "18   cyp1-T2-YY_S199.sam2    62.45%   cyp1-T2-YY_S199.sam    83.25%\n",
      "19  Mopti-C2-YY_S182.sam2    57.73%  Mopti-C2-YY_S182.sam    83.70%\n",
      "20   cyp1-C1-YY_S191.sam2    60.46%   cyp1-C1-YY_S191.sam    82.61%\n",
      "21   cyp1-T3-YY_S201.sam2    62.59%   cyp1-T3-YY_S201.sam    82.73%\n"
     ]
    }
   ],
   "source": [
    "import pandas as pd\n",
    "import matplotlib.pyplot as P\n",
    "%matplotlib inline\n",
    "import numpy as np\n",
    "\n",
    "#agam = pd.read_table(\"BT2_2_AgamP4_Transc.txt\")\n",
    "agam = pd.read_table(\"~/git/Malpighian_tubule_permethrin_response/BT2_2_AgamP4_Transc.txt\")\n",
    "agam.columns = [\"sampleID\", \"percent\"]\n",
    "#acol = pd.read_table(\"BT2_2_Acol1.2_Transc.txt\")\n",
    "acol = pd.read_table(\"~/git/Malpighian_tubule_permethrin_response/BT2_2_Acol1.2_Transc.txt\")\n",
    "acol.columns = [\"sample\", \"percent\"]\n",
    "acol[\"sampleID\"] = acol[\"sample\"].str.strip(\"2\")\n",
    "#print(acol)\n",
    "compare = acol.merge(agam, on=\"sampleID\")\n",
    "print(compare)\n",
    "\n",
    "#Mapping to AgamP4 increases mapping by >20%"
   ]
  },
  {
   "cell_type": "markdown",
   "metadata": {
    "collapsed": true,
    "slideshow": {
     "slide_type": "slide"
    }
   },
   "source": [
    "# Transcriptome block effect analysis -- EdgeR -> 6 ~bad MOPTI samples"
   ]
  },
  {
   "cell_type": "markdown",
   "metadata": {
    "collapsed": true
   },
   "source": [
    "## Run Kallisto on AgamP4 transcripts"
   ]
  },
  {
   "cell_type": "code",
   "execution_count": 10,
   "metadata": {
    "collapsed": false
   },
   "outputs": [],
   "source": [
    "import pandas as pd\n",
    "#import matplotlib.pyplot as P\n",
    "import matplotlib_venn as V\n",
    "\n",
    "#K = pd.read_table(\"sleuth.AgamP4_transc_good_samples_DE_transcripts.pval_0.01.txt\")\n",
    "K = pd.read_table(\"sleuth.AgamP4_transc_good_samples_DE_transcripts.pval_0.05.txt\")\n",
    "K_genes = pd.DataFrame(K['target_id'].str.split(\"-\").tolist())\n",
    "K_gene_list = set(K_genes[0].tolist())\n",
    "#V.venn2([K_gene_list,deseq_set], (\"Kallisto\", \"DESeq\"))\n",
    "###V.venn2([K_gene_list,deseq_AgamP4], (\"Kallisto\", \"DESeq\"))\n",
    "###overlap = list(K_gene_list & deseq_AgamP4)\n",
    "#for G in overlap:\n",
    "#    print(G)\n",
    "#paste these into g:profiler : http://biit.cs.ut.ee/gprofiler/index.cgi\n",
    "#GO:0008150\n",
    "#biological_process\n",
    "#p = 0.01\n",
    "#Reid, William R., Lee Zhang, Feng Liu, and Nannan Liu. 2012. “The Transcriptome Profile of the Mosquito Culex Quinquefasciatus Following Permethrin Selection.” PloS One 7 (10): e47163."
   ]
  },
  {
   "cell_type": "markdown",
   "metadata": {
    "slideshow": {
     "slide_type": "slide"
    }
   },
   "source": [
    "## Map to AgamP4 trascripts for BitSeq analysis\n",
    "\n",
    "### Mapped to Anopheles-gambiae-PEST_TRANSCRIPTS_AgamP4.2\n",
    "\n",
    "### allowed for up to 100 distinct alignments\n",
    "\n",
    "#### e.g. bowtie2 -q -k 100 --threads 4 -x Anopheles-gambiae-PEST_TRANSCRIPTS_AgamP4.2 -U ../trimmed/cyp1-C1-AE_S192_L007_R1_001.qc.fastq.gz -S cyp1-C1-AE_S192.sam\n",
    "\t \n",
    "\n",
    "#### run in parallel like: parallel --gnu --ungroup --nice 9 -a bt2.run"
   ]
  },
  {
   "cell_type": "code",
   "execution_count": 9,
   "metadata": {
    "collapsed": false
   },
   "outputs": [
    {
     "data": {
      "text/plain": [
       "<matplotlib_venn._common.VennDiagram at 0x7f0bd2659e80>"
      ]
     },
     "execution_count": 9,
     "metadata": {},
     "output_type": "execute_result"
    },
    {
     "data": {
      "text/plain": [
       "<matplotlib.figure.Figure at 0x7f0bd2aef2e8>"
      ]
     },
     "metadata": {},
     "output_type": "display_data"
    },
    {
     "data": {
      "image/png": "[encoded data removed]",
      "text/plain": [
       "<matplotlib.figure.Figure at 0x7f0bd2ab2710>"
      ]
     },
     "metadata": {},
     "output_type": "display_data"
    },
    {
     "data": {
      "image/png": "[encoded data removed]",
      "text/plain": [
       "<matplotlib.figure.Figure at 0x7f0bd2ab2550>"
      ]
     },
     "metadata": {},
     "output_type": "display_data"
    }
   ],
   "source": [
    "import pandas as pd\n",
    "import matplotlib.pyplot as P\n",
    "%matplotlib inline\n",
    "import numpy as np\n",
    "import pandas as pd\n",
    "import math\n",
    "import matplotlib_venn as V\n",
    "\n",
    "#input BitSeq data (good samples) mapped to AgamP4 transcripts\n",
    "BAgamP4 = pd.read_csv(\"/home/bradmain/gambiae/malphigs/raw/BitSeq/overall.pplr\",delim_whitespace=True, comment=\"#\", header=None)\n",
    "BAgamP4.columns = ['CPxPPLR', 'log2FC', 'ConfidenceLow', 'ConfidenceHigh', 'logmean_C', 'logmean_T']\n",
    "\n",
    "P.figure()\n",
    "BAgamP4.hist(column=\"CPxPPLR\", bins=100)\n",
    "AgamP4_genes = [line.strip().split()[1] for line in open(\"/home/bradmain/gambiae/malphigs/raw/BitSeq/Mopti-T3-YY_S189.tr\") if line[0]!=\"#\"]\n",
    "BAgamP4['ID'] = AgamP4_genes\n",
    "P.figure()\n",
    "\n",
    "#top_bitseq = BAgamP4.loc[BAgamP4['CPxPPLR'] > 0.95]\n",
    "#bit_genes = set([i.split('-')[0] for i in top_bitseq['ID']])\n",
    "#V.venn3([K_gene_list,deseq_AgamP4,bit_genes], (\"Kallisto\", \"DESeq\",\"BitSeq\"))\n",
    "\n",
    "\n",
    "#Select the top 5% (2.5 from top and 2.5 from bottom)\n",
    "all_bitseq = BAgamP4.loc[(BAgamP4['CPxPPLR'] <= 0.025) | (BAgamP4['CPxPPLR'] >= 0.975)]\n",
    "\n",
    "\n",
    "bit_genes = set([i.split('-')[0] for i in all_bitseq['ID']])\n",
    "\n",
    "#V.venn3([K_gene_list,deseq_AgamP4,bit_genes], (\"Kallisto\", \"DESeq\",\"BitSeq\"))\n",
    "V.venn2([K_gene_list,bit_genes], (\"Kallisto\",\"BitSeq\"))\n",
    "#P.title(\"Top Diff Exp Genes by Method\")\n",
    "\n",
    "\n",
    "#for l in bit_genes:\n",
    "#    print(l)"
   ]
  },
  {
   "cell_type": "markdown",
   "metadata": {},
   "source": [
    "## DESeq2 mapped to AgamP4 transcripts "
   ]
  },
  {
   "cell_type": "code",
   "execution_count": 1,
   "metadata": {
    "collapsed": false
   },
   "outputs": [],
   "source": [
    "%%bash\n",
    "#convert stranded RNAseq sam file to count data with express\n",
    "for F in *sam ; do echo \"~/bin/express-1.5.1-linux_x86_64/express --r-stranded -o $F.express ~/gambiae/malphigs/raw/BitSeq/Anopheles-gambiae-PEST_TRANSCRIPTS_AgamP4.2.fa $F\"; done > express.run2\n",
    "#for bam in /home/bradmain/gambiae/malphigs/raw/BitSeq/*.sam ; do  echo \"~/bin/express-1.5.1-linux_x86_64/express --r-stranded -o $bam.eXpresscounts ~/gambiae/malphigs/raw/BitSeq/Anopheles-gambiae-PEST_TRANSCRIPTS_AgamP4.2.fa $bam\"; done > express.run \n",
    "#head express.run\n"
   ]
  },
  {
   "cell_type": "code",
   "execution_count": 7,
   "metadata": {
    "collapsed": true
   },
   "outputs": [],
   "source": [
    "## Make a DataFrame of the count data\n",
    "import glob\n",
    "import pandas as pd\n",
    "\n",
    "effcount_files = glob.glob(\"/home/bradmain/gambiae/malphigs/raw/BitSeq/*express/results.xprs\")\n",
    "seed_file = pd.read_table(\"/home/bradmain/gambiae/malphigs/raw/BitSeq/Mopti-C2-YY_S182.sam.express/results.xprs\")\n",
    "counts_df = seed_file[['target_id','eff_counts']]\n",
    "counts_df.columns = ['ID','Mopti-C2-YY_S182']\n",
    "\n",
    "for f in effcount_files:\n",
    "    sample_df = pd.read_table(f)\n",
    "    label = f.split('/')[-2].strip(\".sam.express\")\n",
    "    data = sample_df[['target_id','eff_counts']]\n",
    "    data.columns = ['ID',label]\n",
    "    headers = counts_df.dtypes.index\n",
    "    if label not in headers:\n",
    "        counts_df = pd.merge(counts_df,data, on=\"ID\")\n",
    "counts_df.to_csv('allsamples_effcounts.csv',index=False)\n",
    "#I'll read this csv into R next."
   ]
  },
  {
   "cell_type": "code",
   "execution_count": 8,
   "metadata": {
    "collapsed": false
   },
   "outputs": [
    {
     "name": "stdout",
     "output_type": "stream",
     "text": [
      "The rpy2.ipython extension is already loaded. To reload it, use:\n",
      "  %reload_ext rpy2.ipython\n"
     ]
    }
   ],
   "source": [
    "%load_ext rpy2.ipython\n",
    "#Load R magic"
   ]
  },
  {
   "cell_type": "code",
   "execution_count": 12,
   "metadata": {
    "collapsed": false
   },
   "outputs": [
    {
     "data": {
      "text/plain": [
       "             ID Mopti.C2.YY_S182 Mopti.T3.YY_S189 cyp1.T2.YY_S199\n",
       "1 AGAP005129-RA        137.87669        136.50606       247.96504\n",
       "2 AGAP009071-RA        207.83017        230.92998       316.24801\n",
       "3 AGAP007763-RA         40.76057         49.97897        59.35500\n",
       "4 AGAP004782-RA         45.92718         48.88199        86.77709\n",
       "5 AGAP002636-RA          0.00000          0.00000         0.00000\n",
       "6 AGAP004198-RA          0.00000          0.00000         0.00000\n",
       "  cyp1.C1.AE_S192 cyp1.T3.AE_S202 cyp1.T1.YY_S197 Mopti.C1.BM_S180\n",
       "1       175.10346      208.447621        325.4728         87.43378\n",
       "2       265.14849      367.119564        358.6564        322.63783\n",
       "3        52.37849       62.558710        103.6117         32.24005\n",
       "4        52.21402       75.801930        103.6513         80.32521\n",
       "5         0.00000        0.000000          0.0000          0.00000\n",
       "6         0.00000        1.560181          0.0000          0.00000\n",
       "  Mopti.T2.BM_S187 Mopti.C3.YY_S183 cyp1.C3.AE_S196 Mopti.T2.YY_S188\n",
       "1        92.486108        215.66858        364.5640        165.82713\n",
       "2       245.108409        266.67293        465.6685        229.51911\n",
       "3        26.772174         66.71586        116.5437         52.74017\n",
       "4        67.389827         84.41519        149.8409        106.75224\n",
       "5         0.000000          0.00000          0.0000          0.00000\n",
       "6         0.645219          0.00000          0.0000          0.00000\n",
       "  Mopti.T1.BM_S186 Mopti.C2.AE_S181 Mopti.T3.AE_S190 cyp1.C2.YY_S193\n",
       "1         77.83854        45.237983        157.12275        352.6504\n",
       "2        288.34872       158.549474        272.40790        434.3990\n",
       "3         24.37797         9.768856         84.54592         69.9213\n",
       "4         51.50533        32.508864         68.12149        130.2335\n",
       "5          0.00000         0.000000          0.00000          0.0000\n",
       "6          0.00000         0.000000          0.00000          0.0000\n",
       "  cyp1.C2.AE_S194 Mopti.C1.AE_S179 cyp1.T1.AE_S198 cyp1.T2.AE_S200\n",
       "1       173.41701        137.69845       247.31011       333.36440\n",
       "2       266.46256        343.13778       374.43225       462.40489\n",
       "3        58.68720         28.55316        57.05855        71.01744\n",
       "4        51.15031        126.86870       103.98162       153.60045\n",
       "5         0.00000          0.00000         0.00000         0.00000\n",
       "6         0.00000          0.00000         0.00000         0.00000\n",
       "  Mopti.C3.AE_S184 cyp1.C3.YY_S195 cyp1.T3.YY_S201 cyp1.C1.YY_S191\n",
       "1        271.30808      229.765703       297.12600        77.14930\n",
       "2        404.96060      321.664507       379.83333       108.67836\n",
       "3         94.62789       78.977984        92.91588        23.02099\n",
       "4         93.92825      103.351070        77.02138        27.69180\n",
       "5          0.00000        0.000000         0.00000         0.00000\n",
       "6          0.00000        0.782926         0.00000         0.00000\n",
       "  Mopti.T1.AE_S185\n",
       "1        147.62000\n",
       "2        406.01286\n",
       "3         28.73111\n",
       "4         82.79526\n",
       "5          0.00000\n",
       "6          0.00000\n"
      ]
     },
     "metadata": {},
     "output_type": "display_data"
    }
   ],
   "source": [
    "%%R\n",
    "counts.data = read.csv('allsamples_effcounts.csv')\n",
    "gt = regmatches(colnames(counts.data),regexpr(\"Mopti|cyp1\",colnames(counts.data)))\n",
    "head(sampleTable)\n"
   ]
  },
  {
   "cell_type": "code",
   "execution_count": null,
   "metadata": {
    "collapsed": true
   },
   "outputs": [],
   "source": [
    "%%bash\n",
    "# You should map with tophat so we can id new transcripts\n",
    "# Map without giving GFF file\n",
    "for file in trimmed/Mopti*qc.fastq.gz\n",
    "do\n",
    "echo \"/mnt/popi/home/travc/install/bowtie2/tophat-2.0.14.Linux_x86_64/tophat --num-threads 8 --library-type fr-firststrand -o tophat/$(basename $file _L007_R1_001.qc.fastq.gz).stranded_noGTF /mnt/popi/archive/reference/Anopheles-gambiae-PEST_CHROMOSOMES_AgamP4 $file; java -jar /usr/local/picard-tools/AddOrReplaceReadGroups.jar I=tophat/$(basename $file _L007_R1_001.qc.fastq.gz).stranded_noGTF/accepted_hits.bam O=tophat/$(basename $file _L007_R1_001.qc.fastq.gz).stranded_noGTF/$(basename $file _L007_R1_001.qc.fastq.gz)_sorted_stranded.bam SORT_ORDER=coordinate RGID='malphig_2016_04_25_$(basename $file _L007_R1_001.qc.fastq.gz)' RGLB='Kappa_stranded_mRNAseq-$(basename $file _L007_R1_001.qc.fastq.gz)' RGPL='ILLUMINA' RGPU='4000' RGSM='$(basename $file _L007_R1_001.qc.fastq.gz)' VALIDATION_STRINGENCY=LENIENT CREATE_INDEX=true\"\n",
    "done\n",
    "> tophat_mopti_noGTF.run\n",
    "parallel --gnu --ungroup --nice 9 -a tophat_mopti_noGTF.run\n",
    "for file in trimmed/cyp1*qc.fastq.gz\n",
    "do\n",
    "echo \"/mnt/popi/home/travc/install/bowtie2/tophat-2.0.14.Linux_x86_64/tophat --num-threads 8 --library-type fr-firststrand -o tophat/$(basename $file _L007_R1_001.qc.fastq.gz).stranded_noGTF /mnt/popi/archive/reference/Anopheles-gambiae-PEST_CHROMOSOMES_AgamP4 $file; java -jar /usr/local/picard-tools/AddOrReplaceReadGroups.jar I=tophat/$(basename $file _L007_R1_001.qc.fastq.gz).stranded_noGTF/accepted_hits.bam O=tophat/$(basename $file _L007_R1_001.qc.fastq.gz).stranded_noGTF/$(basename $file _L007_R1_001.qc.fastq.gz)_sorted_stranded.bam SORT_ORDER=coordinate RGID='malphig_2016_04_25_$(basename $file _L007_R1_001.qc.fastq.gz)' RGLB='Kappa_stranded_mRNAseq-$(basename $file _L007_R1_001.qc.fastq.gz)' RGPL='ILLUMINA' RGPU='4000' RGSM='$(basename $file _L007_R1_001.qc.fastq.gz)' VALIDATION_STRINGENCY=LENIENT CREATE_INDEX=true\"\n",
    "done\n",
    "> tophat_cyp1_noGTF.run\n",
    "parallel --gnu --ungroup --nice 9 -a tophat_cyp1_noGTF.run"
   ]
  },
  {
   "cell_type": "code",
   "execution_count": null,
   "metadata": {
    "collapsed": true
   },
   "outputs": [],
   "source": [
    "cufflinks"
   ]
  },
  {
   "cell_type": "code",
   "execution_count": null,
   "metadata": {
    "collapsed": true
   },
   "outputs": [],
   "source": []
  },
  {
   "cell_type": "code",
   "execution_count": null,
   "metadata": {
    "collapsed": false
   },
   "outputs": [],
   "source": [
    "for g in deseq_AgamP4:\n",
    "    print(g)"
   ]
  },
  {
   "cell_type": "code",
   "execution_count": 6,
   "metadata": {
    "collapsed": false
   },
   "outputs": [
    {
     "name": "stdout",
     "output_type": "stream",
     "text": [
      "AGAP013005 [nan]\n",
      "AGAP010973 [ 'Sodium/potassium/calcium exchanger 3 [Source:VB External Description;Acc:AGAP010973]']\n",
      "AGAP005948 [ 'Kynurenine 3-monooxygenase [Source:VB External Description;Acc:AGAP005948]']\n",
      "Tene et al 2013 DDT resistance\n",
      "Waisberg et al 2014 'Plasmodium Falciparum Infection Induces Expression of a Mosquito Salivary Protein'\n"
     ]
    },
    {
     "data": {
      "image/png": "[encoded data removed]",
      "text/plain": [
       "<matplotlib.figure.Figure at 0x7fb65597c9e8>"
      ]
     },
     "metadata": {},
     "output_type": "display_data"
    },
    {
     "data": {
      "image/png": "[encoded data removed]",
      "text/plain": [
       "<matplotlib.figure.Figure at 0x7fb6561756a0>"
      ]
     },
     "metadata": {},
     "output_type": "display_data"
    }
   ],
   "source": [
    "import pandas as pd\n",
    "import matplotlib.pyplot as P\n",
    "%matplotlib inline\n",
    "import numpy as np\n",
    "import pandas as pd\n",
    "import math\n",
    "import matplotlib_venn as V\n",
    "#input BitSeq data (good samples)\n",
    "\n",
    "mopti = pd.read_csv(\"/home/bradmain/gambiae/malphigs/raw/BitSeq/mopti.pplr\",delim_whitespace=True, comment=\"#\", header=None)\n",
    "mopti.columns = ['CPxPPLR', 'log2FC', 'ConfidenceLow', 'ConfidenceHigh', 'logmean_C', 'logmean_T']\n",
    "\n",
    "cyp1 = pd.read_csv(\"/home/bradmain/gambiae/malphigs/raw/BitSeq/cyp1.pplr\",delim_whitespace=True, comment=\"#\", header=None)\n",
    "cyp1.columns = ['CPxPPLR', 'log2FC', 'ConfidenceLow', 'ConfidenceHigh', 'logmean_C', 'logmean_T']\n",
    "cyp1['ID'] = AgamP4_genes\n",
    "mopti['ID'] = AgamP4_genes\n",
    "#print(mopti)\n",
    "\n",
    "top_cut = 0.975\n",
    "bottom_cut = 0.025\n",
    "\n",
    "#Select the top 5% (2.5 from top and 2.5 from bottom)\n",
    "mopti_diff = mopti.loc[(mopti['CPxPPLR'] <= bottom_cut) | (mopti['CPxPPLR'] >= top_cut)]\n",
    "cyp1_diff = cyp1.loc[(cyp1['CPxPPLR'] <= bottom_cut) | (cyp1['CPxPPLR'] >= top_cut)]\n",
    "\n",
    "mopti_genes = set([i.split('-')[0] for i in mopti_diff['ID']])\n",
    "cyp1_genes = set([i.split('-')[0] for i in cyp1_diff['ID']])\n",
    "\n",
    "#V.venn2([K_gene_list,deseq_AgamP4,bit_genes], (\"Kallisto\", \"DESeq\",\"BitSeq\"))\n",
    "P.figure()\n",
    "P.title(\"Overlap of top %5 differentially expressed genes\")\n",
    "V.venn2([mopti_genes,cyp1_genes], (\"mopti\", \"cyp1\"))\n",
    "P.figure()\n",
    "P.title(\"Overlap of top %5 differentially expressed genes\")\n",
    "V.venn3([mopti_genes,cyp1_genes,bit_genes], (\"mopti\", \"cyp1\",\"combined\"))\n",
    "\n",
    "M_cyp_overlap = list(mopti_genes & cyp1_genes)\n",
    "names = pd.read_table(\"AgamP4_gene_names.txt\")\n",
    "#print(names)\n",
    "for gene in M_cyp_overlap:\n",
    "    #print(gene,names.loc[names[\"Gene stable ID\"]== gene])\n",
    "    descrip = names.loc[names[\"Gene stable ID\"]== gene]['Gene description']\n",
    "    print(gene, descrip.values)\n",
    "    #print(names.loc[names[\"Gene stable ID\"]== gene]['Gene description'])\n",
    "print(\"Tene et al 2013 DDT resistance\")\n",
    "print(\"Waisberg et al 2014 'Plasmodium Falciparum Infection Induces Expression of a Mosquito Salivary Protein'\")\n"
   ]
  },
  {
   "cell_type": "code",
   "execution_count": null,
   "metadata": {
    "collapsed": true
   },
   "outputs": [],
   "source": []
  },
  {
   "cell_type": "code",
   "execution_count": null,
   "metadata": {
    "collapsed": true
   },
   "outputs": [],
   "source": []
  },
  {
   "cell_type": "code",
   "execution_count": null,
   "metadata": {
    "collapsed": true
   },
   "outputs": [],
   "source": [
    "#Star and then stranded counts to DESeq2"
   ]
  },
  {
   "cell_type": "code",
   "execution_count": 1,
   "metadata": {
    "collapsed": true
   },
   "outputs": [],
   "source": [
    "%load_ext rpy2.ipython"
   ]
  },
  {
   "cell_type": "code",
   "execution_count": 6,
   "metadata": {
    "collapsed": false
   },
   "outputs": [
    {
     "name": "stderr",
     "output_type": "stream",
     "text": [
      "/usr/local/lib/python3.5/dist-packages/rpy2/rinterface/__init__.py:185: RRuntimeWarning: Loading required package: GenomicRanges\n",
      "\n",
      "  warnings.warn(x, RRuntimeWarning)\n",
      "/usr/local/lib/python3.5/dist-packages/rpy2/rinterface/__init__.py:185: RRuntimeWarning: Loading required package: BiocGenerics\n",
      "\n",
      "  warnings.warn(x, RRuntimeWarning)\n",
      "/usr/local/lib/python3.5/dist-packages/rpy2/rinterface/__init__.py:185: RRuntimeWarning: Loading required package: parallel\n",
      "\n",
      "  warnings.warn(x, RRuntimeWarning)\n",
      "/usr/local/lib/python3.5/dist-packages/rpy2/rinterface/__init__.py:185: RRuntimeWarning: \n",
      "Attaching package: ‘BiocGenerics’\n",
      "\n",
      "\n",
      "  warnings.warn(x, RRuntimeWarning)\n",
      "/usr/local/lib/python3.5/dist-packages/rpy2/rinterface/__init__.py:185: RRuntimeWarning: The following objects are masked from ‘package:parallel’:\n",
      "\n",
      "    clusterApply, clusterApplyLB, clusterCall, clusterEvalQ,\n",
      "    clusterExport, clusterMap, parApply, parCapply, parLapply,\n",
      "    parLapplyLB, parRapply, parSapply, parSapplyLB\n",
      "\n",
      "\n",
      "  warnings.warn(x, RRuntimeWarning)\n",
      "/usr/local/lib/python3.5/dist-packages/rpy2/rinterface/__init__.py:185: RRuntimeWarning: The following object is masked from ‘package:stats’:\n",
      "\n",
      "    xtabs\n",
      "\n",
      "\n",
      "  warnings.warn(x, RRuntimeWarning)\n",
      "/usr/local/lib/python3.5/dist-packages/rpy2/rinterface/__init__.py:185: RRuntimeWarning: The following objects are masked from ‘package:base’:\n",
      "\n",
      "    anyDuplicated, append, as.data.frame, as.vector, cbind, colnames,\n",
      "    do.call, duplicated, eval, evalq, Filter, Find, get, intersect,\n",
      "    is.unsorted, lapply, Map, mapply, match, mget, order, paste, pmax,\n",
      "    pmax.int, pmin, pmin.int, Position, rank, rbind, Reduce, rep.int,\n",
      "    rownames, sapply, setdiff, sort, table, tapply, union, unique,\n",
      "    unlist\n",
      "\n",
      "\n",
      "  warnings.warn(x, RRuntimeWarning)\n",
      "/usr/local/lib/python3.5/dist-packages/rpy2/rinterface/__init__.py:185: RRuntimeWarning: Loading required package: IRanges\n",
      "\n",
      "  warnings.warn(x, RRuntimeWarning)\n",
      "/usr/local/lib/python3.5/dist-packages/rpy2/rinterface/__init__.py:185: RRuntimeWarning: Loading required package: GenomeInfoDb\n",
      "\n",
      "  warnings.warn(x, RRuntimeWarning)\n",
      "/usr/local/lib/python3.5/dist-packages/rpy2/rinterface/__init__.py:185: RRuntimeWarning: Loading required package: Rcpp\n",
      "\n",
      "  warnings.warn(x, RRuntimeWarning)\n",
      "/usr/local/lib/python3.5/dist-packages/rpy2/rinterface/__init__.py:185: RRuntimeWarning: Loading required package: RcppArmadillo\n",
      "\n",
      "  warnings.warn(x, RRuntimeWarning)\n"
     ]
    }
   ],
   "source": [
    "%%R\n",
    "library('DESeq2')"
   ]
  },
  {
   "cell_type": "code",
   "execution_count": 8,
   "metadata": {
    "collapsed": false
   },
   "outputs": [],
   "source": [
    "%%R\n",
    "\n",
    "#directory<-'/home/bradmain/gambiae/malphigs/raw/tophat/counts_no_batcheffect_files'\n",
    "directory<-'/home/bradmain/gambiae/malphigs/raw/STAR'\n",
    "#use grep to search for the 'treated' part of filename to collect files\n",
    "sampleFiles<-grep('stranded_counts',list.files(directory),value=TRUE)\n",
    "#print(sampleFiles)\n",
    "sampleCondition<-c('untreated','untreated','untreated','untreated','untreated','untreated',\n",
    "                   'treated','treated','treated','treated','treated','treated',\n",
    "                  'untreated','untreated','untreated','untreated','untreated','untreated',\n",
    "                  'treated','treated','treated','treated','treated','treated')\n",
    "sampleTable<-data.frame(sampleName=sampleFiles, fileName=sampleFiles, condition=sampleCondition)\n",
    "\n",
    " \n",
    "ddsHTSeq<-DESeqDataSetFromHTSeqCount(sampleTable=sampleTable, directory=directory, design=~condition)\n",
    "\n",
    "colData(ddsHTSeq)$condition<-factor(colData(ddsHTSeq)$condition, levels=c('untreated','treated'))"
   ]
  },
  {
   "cell_type": "code",
   "execution_count": 14,
   "metadata": {
    "collapsed": false
   },
   "outputs": [
    {
     "data": {
      "text/plain": [
       "class: DESeqDataSet \n",
       "dim: 13793 24 \n",
       "exptData(0):\n",
       "assays(5): counts mu cooks replaceCounts replaceCooks\n",
       "rownames(13793): AGAP004677 AGAP004678 ... AGAP028392 AGAP028393\n",
       "rowData metadata column names(26): baseMean baseVar ... maxCooks\n",
       "  replace\n",
       "colnames(24): cyp1-C1-AE_S192stranded_counts.out\n",
       "  cyp1-C1-YY_S191stranded_counts.out ...\n",
       "  Mopti-T3-AE_S190stranded_counts.out\n",
       "  Mopti-T3-YY_S189stranded_counts.out\n",
       "colData names(3): condition sizeFactor replaceable\n"
      ]
     },
     "metadata": {},
     "output_type": "display_data"
    }
   ],
   "source": [
    "%%R\n",
    "dds<-DESeq(ddsHTSeq)\n",
    "res<-results(dds)\n",
    "#res<-res[order(res$padj),]\n",
    "print(dds)"
   ]
  },
  {
   "cell_type": "code",
   "execution_count": null,
   "metadata": {
    "collapsed": true
   },
   "outputs": [],
   "source": []
  },
  {
   "cell_type": "code",
   "execution_count": 13,
   "metadata": {
    "collapsed": false
   },
   "outputs": [
    {
     "data": {
      "image/png": "[encoded data removed]"
     },
     "metadata": {},
     "output_type": "display_data"
    }
   ],
   "source": [
    "%%R\n",
    "plotMA(dds,ylim=c(-2,2),main='Mopti and CYP1 treatment effect')\n",
    "write.csv(as.data.frame(res),file='mopti_cyp1_treatment_effect_DESeq2.csv')\n"
   ]
  },
  {
   "cell_type": "code",
   "execution_count": null,
   "metadata": {
    "collapsed": true
   },
   "outputs": [],
   "source": []
  }
 ],
 "metadata": {
  "celltoolbar": "Slideshow",
  "kernelspec": {
   "display_name": "Python 3",
   "language": "python",
   "name": "python3"
  },
  "language_info": {
   "codemirror_mode": {
    "name": "ipython",
    "version": 3
   },
   "file_extension": ".py",
   "mimetype": "text/x-python",
   "name": "python",
   "nbconvert_exporter": "python",
   "pygments_lexer": "ipython3",
   "version": "3.5.2"
  }
 },
 "nbformat": 4,
 "nbformat_minor": 0
}
